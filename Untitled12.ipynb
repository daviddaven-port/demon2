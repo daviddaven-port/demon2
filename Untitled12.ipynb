{
  "nbformat": 4,
  "nbformat_minor": 0,
  "metadata": {
    "colab": {
      "provenance": [],
      "machine_shape": "hm",
      "authorship_tag": "ABX9TyP5j4qKrGWVtSWtyISyxnp+",
      "include_colab_link": true
    },
    "kernelspec": {
      "name": "python3",
      "display_name": "Python 3"
    },
    "language_info": {
      "name": "python"
    }
  },
  "cells": [
    {
      "cell_type": "markdown",
      "metadata": {
        "id": "view-in-github",
        "colab_type": "text"
      },
      "source": [
        "<a href=\"https://colab.research.google.com/github/daviddaven-port/demon2/blob/master/Untitled12.ipynb\" target=\"_parent\"><img src=\"https://colab.research.google.com/assets/colab-badge.svg\" alt=\"Open In Colab\"/></a>"
      ]
    },
    {
      "cell_type": "code",
      "execution_count": 2,
      "metadata": {
        "colab": {
          "base_uri": "https://localhost:8080/",
          "height": 814
        },
        "id": "i9NBV0qwNPGp",
        "outputId": "56f78a4b-1c73-4bea-f2d9-0719e0e9ce9d"
      },
      "outputs": [
        {
          "output_type": "stream",
          "name": "stdout",
          "text": [
            "⏳ Installing gradio (attempt 1)...\n",
            "✅ gradio installed successfully\n",
            "⏳ Installing pandas (attempt 1)...\n",
            "✅ pandas installed successfully\n",
            "⏳ Installing tqdm (attempt 1)...\n",
            "✅ tqdm installed successfully\n",
            "⏳ Installing requests (attempt 1)...\n",
            "✅ requests installed successfully\n",
            "Drive already mounted at /content/drive; to attempt to forcibly remount, call drive.mount(\"/content/drive\", force_remount=True).\n",
            "It looks like you are running Gradio on a hosted Jupyter notebook, which requires `share=True`. Automatically setting `share=True` (you can turn this off by setting `share=False` in `launch()` explicitly).\n",
            "\n",
            "Colab notebook detected. To show errors in colab notebook, set debug=True in launch()\n",
            "* Running on public URL: https://70a4fdfaeeddfea0a6.gradio.live\n",
            "\n",
            "This share link expires in 1 week. For free permanent hosting and GPU upgrades, run `gradio deploy` from the terminal in the working directory to deploy to Hugging Face Spaces (https://huggingface.co/spaces)\n"
          ]
        },
        {
          "output_type": "display_data",
          "data": {
            "text/plain": [
              "<IPython.core.display.HTML object>"
            ],
            "text/html": [
              "<div><iframe src=\"https://70a4fdfaeeddfea0a6.gradio.live\" width=\"100%\" height=\"500\" allow=\"autoplay; camera; microphone; clipboard-read; clipboard-write;\" frameborder=\"0\" allowfullscreen></iframe></div>"
            ]
          },
          "metadata": {}
        },
        {
          "output_type": "execute_result",
          "data": {
            "text/plain": []
          },
          "metadata": {},
          "execution_count": 2
        }
      ],
      "source": [
        "# 🔹 STEP 1: Safe installs (with retries and verbose)\n",
        "import sys, subprocess, os, traceback, time\n",
        "\n",
        "def safe_install(packages):\n",
        "    for package in packages:\n",
        "        for attempt in range(2):\n",
        "            try:\n",
        "                print(f\"⏳ Installing {package} (attempt {attempt+1})...\")\n",
        "                subprocess.check_call(\n",
        "                    [sys.executable, \"-m\", \"pip\", \"install\", package, \"-q\", \"--no-warn-script-location\"]\n",
        "                )\n",
        "                print(f\"✅ {package} installed successfully\")\n",
        "                break\n",
        "            except Exception as e:\n",
        "                print(f\"⚠️ Failed to install {package}: {str(e)[:100]}\")\n",
        "                if attempt == 1:\n",
        "                    print(f\"❌ Critical: {package} failed permanently\")\n",
        "\n",
        "safe_install([\"gradio\", \"pandas\", \"tqdm\", \"requests\"])\n",
        "\n",
        "# 🔹 STEP 2: Drive mount\n",
        "from google.colab import drive\n",
        "drive.mount(\"/content/drive\")\n",
        "\n",
        "BASE_DIR = \"/content/drive/MyDrive/ModelManager\"\n",
        "os.makedirs(BASE_DIR, exist_ok=True)\n",
        "\n",
        "# 🔹 STEP 3: Utilities\n",
        "import requests, zipfile, tarfile, pandas as pd\n",
        "from tqdm import tqdm\n",
        "\n",
        "def download_file(url, dest):\n",
        "    \"\"\"Download with progress bar + retries\"\"\"\n",
        "    for attempt in range(2):\n",
        "        try:\n",
        "            print(f\"⏳ Downloading: {url}\")\n",
        "            r = requests.get(url, stream=True, timeout=60)\n",
        "            total = int(r.headers.get(\"content-length\", 0))\n",
        "            with open(dest, \"wb\") as f, tqdm(\n",
        "                desc=\"📥 Downloading\",\n",
        "                total=total,\n",
        "                unit=\"B\",\n",
        "                unit_scale=True,\n",
        "                unit_divisor=1024,\n",
        "            ) as bar:\n",
        "                for chunk in r.iter_content(chunk_size=8192):\n",
        "                    f.write(chunk)\n",
        "                    bar.update(len(chunk))\n",
        "            print(f\"✅ Download complete: {dest}\")\n",
        "            return True\n",
        "        except Exception as e:\n",
        "            print(f\"⚠️ Error downloading: {e}\")\n",
        "            if attempt == 1:\n",
        "                return False\n",
        "\n",
        "def extract_file(path, target):\n",
        "    \"\"\"Extract archives with error handling\"\"\"\n",
        "    try:\n",
        "        if path.endswith(\".zip\"):\n",
        "            with zipfile.ZipFile(path, \"r\") as z:\n",
        "                z.extractall(target)\n",
        "        elif path.endswith(\".tar\") or path.endswith(\".tar.gz\"):\n",
        "            with tarfile.open(path, \"r:*\") as t:\n",
        "                t.extractall(target)\n",
        "        else:\n",
        "            print(\"⚠️ Unknown format, skipping extraction\")\n",
        "            return False\n",
        "        print(f\"✅ Extracted: {target}\")\n",
        "        return True\n",
        "    except Exception as e:\n",
        "        print(f\"❌ Extraction failed: {e}\")\n",
        "        return False\n",
        "\n",
        "def build_index(target_dir):\n",
        "    \"\"\"Index all files in a directory\"\"\"\n",
        "    index = []\n",
        "    for root, _, files in os.walk(target_dir):\n",
        "        for f in files:\n",
        "            path = os.path.join(root, f)\n",
        "            try:\n",
        "                size = os.path.getsize(path)\n",
        "                index.append({\"file\": f, \"path\": path, \"size_MB\": round(size/1e6,2)})\n",
        "            except Exception as e:\n",
        "                print(f\"⚠️ Skipped {path}: {e}\")\n",
        "    df = pd.DataFrame(index)\n",
        "    csv_path = os.path.join(BASE_DIR, \"model_index.csv\")\n",
        "    df.to_csv(csv_path, index=False)\n",
        "    print(f\"📑 Index saved: {csv_path}\")\n",
        "    return df\n",
        "\n",
        "# 🔹 STEP 4: GUI with Gradio\n",
        "import gradio as gr\n",
        "\n",
        "def process_url(url):\n",
        "    filename = url.split(\"/\")[-1]\n",
        "    dest = os.path.join(BASE_DIR, filename)\n",
        "\n",
        "    if not download_file(url, dest):\n",
        "        return \"❌ Download failed\"\n",
        "\n",
        "    if extract_file(dest, BASE_DIR):\n",
        "        os.remove(dest)  # cleanup archive\n",
        "\n",
        "    df = build_index(BASE_DIR)\n",
        "    return f\"✅ Done! Indexed {len(df)} files.\"\n",
        "\n",
        "with gr.Blocks() as demo:\n",
        "    gr.Markdown(\"# 🗂️ Model Manager (Colab High-RAM Edition)\")\n",
        "    url = gr.Textbox(label=\"Enter HuggingFace/GitHub/Direct URL\")\n",
        "    out = gr.Textbox(label=\"Status\")\n",
        "    btn = gr.Button(\"Download + Index\")\n",
        "    btn.click(process_url, inputs=url, outputs=out)\n",
        "\n",
        "demo.launch()\n",
        "\n"
      ]
    }
  ]
}